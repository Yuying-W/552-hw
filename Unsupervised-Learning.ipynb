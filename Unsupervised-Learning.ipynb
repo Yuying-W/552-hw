{
 "cells": [
  {
   "cell_type": "markdown",
   "metadata": {},
   "source": [
    "# Unsupervised Learning\n"
   ]
  },
  {
   "cell_type": "code",
   "execution_count": 2,
   "metadata": {},
   "outputs": [],
   "source": [
    "import pandas as pd\n",
    "import numpy as np\n",
    "from sklearn.metrics import pairwise_distances_argmin_min\n",
    "from sklearn.cluster import KMeans\n",
    "from sklearn.metrics import confusion_matrix\n",
    "from sklearn.metrics import accuracy_score\n",
    "from sklearn.metrics import precision_score\n",
    "from sklearn.metrics import recall_score\n",
    "from sklearn.metrics import f1_score\n",
    "from sklearn.metrics import roc_auc_score\n",
    "from sklearn import metrics\n",
    "import matplotlib.pyplot as plt\n",
    "from sklearn.model_selection import train_test_split"
   ]
  },
  {
   "cell_type": "code",
   "execution_count": 3,
   "metadata": {},
   "outputs": [],
   "source": [
    "data  = pd.read_csv('wdbc.data.csv', header = None).drop(0,1)"
   ]
  },
  {
   "cell_type": "code",
   "execution_count": 4,
   "metadata": {},
   "outputs": [],
   "source": [
    "data[1] = data[1].map({'M': 1, 'B': 0})"
   ]
  },
  {
   "cell_type": "code",
   "execution_count": 5,
   "metadata": {},
   "outputs": [],
   "source": [
    "test_M = data[data[1]==1].head(42)\n",
    "train_M = data[data[1]==1].tail(170)"
   ]
  },
  {
   "cell_type": "code",
   "execution_count": 6,
   "metadata": {},
   "outputs": [],
   "source": [
    "test_B = data[data[1]==0].head(71)\n",
    "train_B = data[data[1]==0].tail(286)"
   ]
  },
  {
   "cell_type": "code",
   "execution_count": 7,
   "metadata": {},
   "outputs": [],
   "source": [
    "train = pd.concat([train_M,train_B],ignore_index= True)\n",
    "rawdata = train.drop(1,1)\n",
    "labels = train[[1]]"
   ]
  },
  {
   "cell_type": "code",
   "execution_count": 8,
   "metadata": {},
   "outputs": [],
   "source": [
    "test = pd.concat([test_M,test_B],ignore_index= True)"
   ]
  },
  {
   "cell_type": "code",
   "execution_count": 9,
   "metadata": {},
   "outputs": [],
   "source": [
    "test_label = test[[1]]\n",
    "rawtest = test.drop(1,1)"
   ]
  },
  {
   "cell_type": "markdown",
   "metadata": {},
   "source": [
    "### A"
   ]
  },
  {
   "cell_type": "code",
   "execution_count": 10,
   "metadata": {},
   "outputs": [],
   "source": [
    "kmeans = KMeans(n_clusters=2, n_init = 1000,init = 'random').fit(rawdata)"
   ]
  },
  {
   "cell_type": "markdown",
   "metadata": {},
   "source": [
    "#### n_init means: Number of time the k-means algorithm will be run with different centroid seeds. The final results will be the best output of n_init consecutive runs in terms of inertia. Using a high number of it, we can avoid local minimum."
   ]
  },
  {
   "cell_type": "code",
   "execution_count": 11,
   "metadata": {},
   "outputs": [],
   "source": [
    "centers = kmeans.cluster_centers_"
   ]
  },
  {
   "cell_type": "code",
   "execution_count": 12,
   "metadata": {},
   "outputs": [
    {
     "data": {
      "text/plain": [
       "array([[1.98328155e+01, 2.20458252e+01, 1.31133981e+02, 1.23951262e+03,\n",
       "        1.00774563e-01, 1.46076990e-01, 1.79214466e-01, 1.02445922e-01,\n",
       "        1.88804854e-01, 5.98391262e-02, 7.58630097e-01, 1.24012524e+00,\n",
       "        5.32242718e+00, 9.99986408e+01, 6.57149515e-03, 3.17836602e-02,\n",
       "        4.24321359e-02, 1.56211165e-02, 2.01890291e-02, 3.86287379e-03,\n",
       "        2.41039806e+01, 2.92028155e+01, 1.60792233e+02, 1.80873786e+03,\n",
       "        1.38114951e-01, 3.44437476e-01, 4.41616505e-01, 1.90852136e-01,\n",
       "        3.03223301e-01, 8.40351456e-02],\n",
       "       [1.27152210e+01, 1.87690085e+01, 8.21469972e+01, 5.08900567e+02,\n",
       "        9.37774504e-02, 8.97041076e-02, 6.14283278e-02, 3.34804533e-02,\n",
       "        1.76726912e-01, 6.28637960e-02, 3.06482153e-01, 1.22064873e+00,\n",
       "        2.18087337e+00, 2.45273513e+01, 7.11910765e-03, 2.29501615e-02,\n",
       "        2.74518487e-02, 1.04810482e-02, 2.03757110e-02, 3.58808584e-03,\n",
       "        1.42301586e+01, 2.49437960e+01, 9.31765722e+01, 6.37699717e+02,\n",
       "        1.28824788e-01, 2.18901416e-01, 2.14842640e-01, 9.11853853e-02,\n",
       "        2.81006799e-01, 8.21121813e-02]])"
      ]
     },
     "execution_count": 12,
     "metadata": {},
     "output_type": "execute_result"
    }
   ],
   "source": [
    "centers"
   ]
  },
  {
   "cell_type": "code",
   "execution_count": 13,
   "metadata": {},
   "outputs": [],
   "source": [
    "#closest, _ = pairwise_distances_argmin_min(kmeans.cluster_centers_, rawdata)"
   ]
  },
  {
   "cell_type": "code",
   "execution_count": 14,
   "metadata": {},
   "outputs": [],
   "source": [
    "distance = kmeans.transform(rawdata) # the distances between all data points to the 2 centers"
   ]
  },
  {
   "cell_type": "code",
   "execution_count": 15,
   "metadata": {},
   "outputs": [],
   "source": [
    "# for cluster 0\n",
    "d = distance[:, 0]\n",
    "ind_0 = np.argsort(d)[::-1][:30]"
   ]
  },
  {
   "cell_type": "code",
   "execution_count": 16,
   "metadata": {},
   "outputs": [
    {
     "data": {
      "text/plain": [
       "array([145, 432, 431, 265, 455, 183, 421, 258, 268, 296, 406, 446, 319,\n",
       "       336, 193, 417, 407, 450, 213, 197, 283, 339, 372, 232, 449, 441,\n",
       "        50, 440, 286, 448])"
      ]
     },
     "execution_count": 16,
     "metadata": {},
     "output_type": "execute_result"
    }
   ],
   "source": [
    "ind_0"
   ]
  },
  {
   "cell_type": "code",
   "execution_count": 17,
   "metadata": {},
   "outputs": [],
   "source": [
    "label_0 = list()\n",
    "for i in ind_0:\n",
    "    label_0.append(labels[1][i])\n",
    "    \n",
    "label_0 # thus the first cluster is 0\n",
    "res_0 = max(set(label_0), key = label_0.count)"
   ]
  },
  {
   "cell_type": "code",
   "execution_count": 18,
   "metadata": {},
   "outputs": [],
   "source": [
    "# for cluster 1\n",
    "d = distance[:, 1]\n",
    "ind_1 = np.argsort(d)[::-1][:30]"
   ]
  },
  {
   "cell_type": "code",
   "execution_count": 19,
   "metadata": {},
   "outputs": [
    {
     "data": {
      "text/plain": [
       "array([145,  50, 117,  96,  68, 121, 114,  78, 154, 160,  14,  44,  97,\n",
       "        25,  73,  30, 122,  63,  43, 130, 166,  51,   3, 142,  82, 104,\n",
       "        72, 125, 108,  85])"
      ]
     },
     "execution_count": 19,
     "metadata": {},
     "output_type": "execute_result"
    }
   ],
   "source": [
    "ind_1"
   ]
  },
  {
   "cell_type": "code",
   "execution_count": 20,
   "metadata": {},
   "outputs": [],
   "source": [
    "label_1 = list()\n",
    "for i in ind_1:\n",
    "    label_1.append(labels[1][i])\n",
    "    \n",
    "label_1 # thus the second cluster is 1\n",
    "res_1 = max(set(label_1), key = label_1.count)"
   ]
  },
  {
   "cell_type": "code",
   "execution_count": 21,
   "metadata": {},
   "outputs": [],
   "source": [
    "def get_label_foreachcluster(distance,labels):\n",
    "    d_0 = distance[:, 0]# for the first cluster\n",
    "    ind_0 = np.argsort(d_0)[::-1][:30]\n",
    "    label_0 = list()\n",
    "    for i in ind_0:\n",
    "        label_0.append(labels[1][i])\n",
    "    \n",
    "    label_0 # thus the first cluster is 0\n",
    "    res_0 = max(set(label_0), key = label_0.count)\n",
    "    d_1 = distance[:, 1]\n",
    "    ind_1 = np.argsort(d_1)[::-1][:30]\n",
    "    label_1 = list()\n",
    "    for i in ind_1:\n",
    "        label_1.append(labels[1][i])\n",
    "    \n",
    "    label_1 # thus the second cluster is 1\n",
    "    res_1 = max(set(label_1), key = label_1.count)\n",
    "    \n",
    "    \n",
    "    return (res_0,res_1)"
   ]
  },
  {
   "cell_type": "code",
   "execution_count": 22,
   "metadata": {},
   "outputs": [
    {
     "data": {
      "text/plain": [
       "0"
      ]
     },
     "execution_count": 22,
     "metadata": {},
     "output_type": "execute_result"
    }
   ],
   "source": [
    "res_0,res_1 =get_label_foreachcluster(distance,labels)\n",
    "res_0"
   ]
  },
  {
   "cell_type": "code",
   "execution_count": 23,
   "metadata": {},
   "outputs": [],
   "source": [
    "result = kmeans.predict(rawdata)"
   ]
  },
  {
   "cell_type": "code",
   "execution_count": 24,
   "metadata": {},
   "outputs": [],
   "source": [
    "result = pd.DataFrame(result)"
   ]
  },
  {
   "cell_type": "code",
   "execution_count": 25,
   "metadata": {},
   "outputs": [],
   "source": [
    "km_res = result[0].map({0: res_0, 1: res_1}) # final labels from results of kmeans "
   ]
  },
  {
   "cell_type": "code",
   "execution_count": 26,
   "metadata": {},
   "outputs": [
    {
     "data": {
      "text/plain": [
       "array([[  1, 285],\n",
       "       [102,  68]])"
      ]
     },
     "execution_count": 26,
     "metadata": {},
     "output_type": "execute_result"
    }
   ],
   "source": [
    "confusion_matrix(labels, km_res)"
   ]
  },
  {
   "cell_type": "code",
   "execution_count": 27,
   "metadata": {},
   "outputs": [],
   "source": [
    "fpr, tpr, threshold = metrics.roc_curve(labels, km_res)\n",
    "roc_auc = metrics.auc(fpr, tpr)"
   ]
  },
  {
   "cell_type": "code",
   "execution_count": 28,
   "metadata": {},
   "outputs": [
    {
     "data": {
      "image/png": "[encoded data removed]",
      "text/plain": [
       "<Figure size 432x288 with 1 Axes>"
      ]
     },
     "metadata": {},
     "output_type": "display_data"
    }
   ],
   "source": [
    "plt.title('Receiver Operating Characteristic')\n",
    "plt.plot(fpr, tpr, 'b', label = 'AUC = %0.2f' % roc_auc)\n",
    "plt.legend(loc = 'lower right')\n",
    "plt.plot([0, 1], [0, 1],'r--')\n",
    "plt.xlim([0, 1])\n",
    "plt.ylim([0, 1])\n",
    "plt.ylabel('True Positive Rate')\n",
    "plt.xlabel('False Positive Rate')\n",
    "plt.show()"
   ]
  },
  {
   "cell_type": "code",
   "execution_count": 29,
   "metadata": {},
   "outputs": [
    {
     "name": "stdout",
     "output_type": "stream",
     "text": [
      "accuracy for training data 0.5929824561403508\n",
      "precision for training data 0.6978171383518068\n",
      "recall for training data 0.5266666666666666\n",
      "f1_score for training data  0.5686074282632597\n",
      "AUC for training data 0.5795337995337996\n"
     ]
    }
   ],
   "source": [
    "i = 1\n",
    "accuracy = 0\n",
    "precision = 0\n",
    "recall = 0\n",
    "f_1 = 0\n",
    "AUC =0\n",
    "\n",
    "for i in range(1 , 31 ,1):\n",
    "    kmeans = KMeans(n_clusters=2, n_init = 1000,init = 'random').fit(rawdata)\n",
    "    distance = kmeans.transform(rawdata) \n",
    "    res_0,res_1 =get_label_foreachcluster(distance,labels)\n",
    "    km_res = result[0].map({0: res_0, 1: res_1})\n",
    "    accuracy = accuracy + accuracy_score(labels, km_res)\n",
    "    precision = precision + precision_score(labels, km_res, average='binary')\n",
    "    recall = recall + recall_score(labels, km_res, average='binary')\n",
    "    f_1 = f_1+ f1_score(labels, km_res, average='binary') \n",
    "    fpr, tpr, thresholds = metrics.roc_curve(labels, km_res, pos_label=1)\n",
    "    auc = metrics.auc(fpr, tpr)\n",
    "    AUC = AUC + auc\n",
    "    \n",
    "print('accuracy for training data', accuracy/30)\n",
    "print('precision for training data', precision/30)\n",
    "print('recall for training data', recall/30)\n",
    "print('f1_score for training data ', f_1/30)\n",
    "print('AUC for training data', AUC/30)\n",
    "    \n",
    "    "
   ]
  },
  {
   "cell_type": "code",
   "execution_count": 30,
   "metadata": {},
   "outputs": [
    {
     "name": "stdout",
     "output_type": "stream",
     "text": [
      "accuracy for testing data 0.19469026548672558\n",
      "precision for testing data 0.23655913978494608\n",
      "recall for testing data 0.5238095238095238\n",
      "f1_score for testing data  0.32592592592592595\n",
      "AUC for testing data 0.2619047619047619\n"
     ]
    }
   ],
   "source": [
    "i = 1\n",
    "accuracy = 0\n",
    "precision = 0\n",
    "recall = 0\n",
    "f_1 = 0\n",
    "AUC =0\n",
    "\n",
    "for i in range(1,31,1):\n",
    "    kmeans = KMeans(n_clusters=2,n_init = 1000,init = 'random').fit(rawdata)\n",
    "    distance = kmeans.transform(rawdata) \n",
    "    res_0,res_1 =get_label_foreachcluster(distance,labels)\n",
    "    test_result = kmeans.predict(rawtest)\n",
    "    test_result = pd.DataFrame(test_result)\n",
    "    km_test = test_result[0].map({0: res_0, 1: res_1})\n",
    "    accuracy = accuracy + accuracy_score(test_label, km_test)\n",
    "    precision = precision + precision_score(test_label, km_test, average='binary')\n",
    "    recall = recall + recall_score(test_label, km_test, average='binary')\n",
    "    f_1 = f_1+ f1_score(test_label, km_test, average='binary') \n",
    "    fpr, tpr, thresholds = metrics.roc_curve(test_label, km_test, pos_label=1)\n",
    "    auc = metrics.auc(fpr, tpr)\n",
    "    AUC = AUC + auc\n",
    "    \n",
    "print('accuracy for testing data', accuracy/30)\n",
    "print('precision for testing data', precision/30)\n",
    "print('recall for testing data', recall/30)\n",
    "print('f1_score for testing data ', f_1/30)\n",
    "print('AUC for testing data', AUC/30)\n",
    "    \n",
    "    "
   ]
  },
  {
   "cell_type": "code",
   "execution_count": 31,
   "metadata": {},
   "outputs": [],
   "source": [
    "#test_result = kmeans.predict(rawtest)"
   ]
  },
  {
   "cell_type": "code",
   "execution_count": 34,
   "metadata": {},
   "outputs": [],
   "source": [
    "#test_result = pd.DataFrame(test_result)"
   ]
  },
  {
   "cell_type": "code",
   "execution_count": 36,
   "metadata": {},
   "outputs": [],
   "source": [
    "#km_test = test_result[0].map({0: res_0, 1: res_1})"
   ]
  },
  {
   "cell_type": "code",
   "execution_count": 31,
   "metadata": {},
   "outputs": [
    {
     "data": {
      "text/plain": [
       "array([[ 0, 71],\n",
       "       [20, 22]])"
      ]
     },
     "execution_count": 31,
     "metadata": {},
     "output_type": "execute_result"
    }
   ],
   "source": [
    "confusion_matrix(test_label, km_test)"
   ]
  },
  {
   "cell_type": "code",
   "execution_count": 32,
   "metadata": {},
   "outputs": [],
   "source": [
    "fpr, tpr, threshold = metrics.roc_curve(test_label, km_test)\n",
    "roc_auc = metrics.auc(fpr, tpr)"
   ]
  },
  {
   "cell_type": "code",
   "execution_count": 33,
   "metadata": {},
   "outputs": [
    {
     "data": {
      "image/png": "[encoded data removed]",
      "text/plain": [
       "<Figure size 432x288 with 1 Axes>"
      ]
     },
     "metadata": {},
     "output_type": "display_data"
    }
   ],
   "source": [
    "plt.title('Receiver Operating Characteristic')\n",
    "plt.plot(fpr, tpr, 'b', label = 'AUC = %0.2f' % roc_auc)\n",
    "plt.legend(loc = 'lower right')\n",
    "plt.plot([0, 1], [0, 1],'r--')\n",
    "plt.xlim([0, 1])\n",
    "plt.ylim([0, 1])\n",
    "plt.ylabel('True Positive Rate')\n",
    "plt.xlabel('False Positive Rate')\n",
    "plt.show()"
   ]
  },
  {
   "cell_type": "markdown",
   "metadata": {},
   "source": [
    "### Spectral Clustering"
   ]
  },
  {
   "cell_type": "markdown",
   "metadata": {},
   "source": [
    "### Spectral clustering is a techniques that make use of the spectrum (eigenvalues) of the similarity matrix of the data to perform dimensionality reduction before clustering in fewer dimensions. The similarity matrix is provided as an input and consists of a quantitative assessment of the relative similarity of each pair of points in the dataset."
   ]
  },
  {
   "cell_type": "code",
   "execution_count": 75,
   "metadata": {},
   "outputs": [],
   "source": [
    "from sklearn import manifold\n",
    "import heapq\n",
    "from heapq import heappush, heappop,nsmallest"
   ]
  },
  {
   "cell_type": "code",
   "execution_count": 76,
   "metadata": {},
   "outputs": [],
   "source": [
    "df = pd.read_csv('wdbc.data.csv',header = None)"
   ]
  },
  {
   "cell_type": "code",
   "execution_count": 77,
   "metadata": {},
   "outputs": [],
   "source": [
    "data_pos = df[df[1].isin(['M'])]\n",
    "data_neg = df[df[1].isin(['B'])]"
   ]
  },
  {
   "cell_type": "code",
   "execution_count": 78,
   "metadata": {},
   "outputs": [
    {
     "name": "stderr",
     "output_type": "stream",
     "text": [
      "/Users/wangyuying/anaconda3/lib/python3.6/site-packages/ipykernel_launcher.py:1: SettingWithCopyWarning: \n",
      "A value is trying to be set on a copy of a slice from a DataFrame.\n",
      "Try using .loc[row_indexer,col_indexer] = value instead\n",
      "\n",
      "See the caveats in the documentation: http://pandas.pydata.org/pandas-docs/stable/indexing.html#indexing-view-versus-copy\n",
      "  \"\"\"Entry point for launching an IPython kernel.\n",
      "/Users/wangyuying/anaconda3/lib/python3.6/site-packages/ipykernel_launcher.py:2: SettingWithCopyWarning: \n",
      "A value is trying to be set on a copy of a slice from a DataFrame.\n",
      "Try using .loc[row_indexer,col_indexer] = value instead\n",
      "\n",
      "See the caveats in the documentation: http://pandas.pydata.org/pandas-docs/stable/indexing.html#indexing-view-versus-copy\n",
      "  \n"
     ]
    }
   ],
   "source": [
    "data_pos[1] = data_pos[1].replace('M',1,regex=True)\n",
    "data_neg[1] = data_neg[1].replace('B',0,regex=True)\n",
    "data_pos1 = data_pos.iloc[:,2:]\n",
    "data_pos1[1] = data_pos[1]\n",
    "data_neg1 = data_neg.iloc[:,2:]\n",
    "data_neg1[1] = data_neg[1]\n",
    "X_train_M4, X_test_M4, y_train_M4, y_test_M4 = train_test_split(data_pos1.iloc[:,:-1],data_pos1.iloc[:,-1], test_size=0.2, random_state=10, shuffle=True)\n",
    "X_train_B4, X_test_B4, y_train_B4, y_test_B4 = train_test_split(data_neg1.iloc[:,:-1],data_neg1.iloc[:,-1], test_size=0.2, random_state=10, shuffle=True)\n",
    "X_train4 = pd.concat([X_train_M4,X_train_B4])\n",
    "y_train4 = pd.concat([y_train_M4,y_train_B4])\n",
    "X_test4 = pd.concat([X_test_M4,X_test_B4])\n",
    "y_test4 = pd.concat([y_test_M4,y_test_B4])\n",
    " \n"
   ]
  },
  {
   "cell_type": "code",
   "execution_count": 79,
   "metadata": {},
   "outputs": [],
   "source": [
    "x_train_sc = manifold.SpectralEmbedding(n_components=2).fit_transform(X_train4)\n",
    "x_test_sc = manifold.SpectralEmbedding(n_components=2).fit_transform(X_test4)\n",
    "kmeans1 = KMeans(n_clusters=2,init='random',n_init=20).fit(x_train_sc)\n",
    "d0_sc = kmeans1.transform(x_train_sc)[:, 0]\n",
    "ind0_sc = np.argsort(d0_sc)[::][:30].tolist()\n",
    "l0_sc = y_train4.iloc[ind0_sc].tolist()\n",
    "pol0_sc = max(set(l0_sc), key = l0_sc.count)#find the 30 nearest distance to center1 in x_train_sc\n",
    "\n",
    "\n",
    "d1_sc = kmeans1.transform(x_train_sc)[:, 1]\n",
    "ind1_sc = np.argsort(d1_sc)[::][:30].tolist()\n",
    "l1_sc = y_train4.iloc[ind1_sc].tolist()\n",
    "pol1_sc = max(set(l1_sc), key = l1_sc.count)\n",
    "y_train_pred1 = kmeans1.predict(x_train_sc)#find the 30 nearest distance to center2\n",
    "\n",
    "for n in range(len(y_train_pred1)):\n",
    "    if(y_train_pred1[n] == 0):\n",
    "        y_train_pred1[n] = pol0_sc# sign \n",
    "    elif(y_train_pred1[n] == 1):\n",
    "        y_train_pred1[n] = pol1_sc\n",
    "\n",
    "pre_test1 = kmeans1.predict(x_test_sc)\n",
    "for n in range(len(pre_test1)):\n",
    "    if(pre_test1[n] == 0):\n",
    "        pre_test1[n] = pol0_sc\n",
    "    elif(pre_test1[n] == 1):\n",
    "        pre_test1[n] = pol1_sc"
   ]
  },
  {
   "cell_type": "code",
   "execution_count": 80,
   "metadata": {},
   "outputs": [
    {
     "data": {
      "text/plain": [
       "array([[282,   3],\n",
       "       [ 53, 116]])"
      ]
     },
     "execution_count": 80,
     "metadata": {},
     "output_type": "execute_result"
    }
   ],
   "source": [
    "confusion_matrix(y_train4, y_train_pred1)"
   ]
  },
  {
   "cell_type": "code",
   "execution_count": 81,
   "metadata": {},
   "outputs": [
    {
     "data": {
      "image/png": "[encoded data removed]",
      "text/plain": [
       "<Figure size 432x288 with 1 Axes>"
      ]
     },
     "metadata": {},
     "output_type": "display_data"
    }
   ],
   "source": [
    "roc_auc = roc_auc_score(y_train_pred1,y_train4)\n",
    "fpr, tpr, thresholds = roc_curve(y_train_pred1,y_train4)\n",
    "plt.title('Receiver Operating Characteristic')\n",
    "plt.plot(fpr, tpr, 'b', label = 'AUC = %0.2f' % roc_auc)\n",
    "plt.legend(loc = 'lower right')\n",
    "plt.plot([0, 1], [0, 1],'r--')\n",
    "plt.xlim([0, 1])\n",
    "plt.ylim([0, 1])\n",
    "plt.ylabel('True Positive Rate')\n",
    "plt.xlabel('False Positive Rate')\n",
    "plt.show()"
   ]
  },
  {
   "cell_type": "code",
   "execution_count": 82,
   "metadata": {},
   "outputs": [
    {
     "data": {
      "text/plain": [
       "array([[31, 41],\n",
       "       [43,  0]])"
      ]
     },
     "execution_count": 82,
     "metadata": {},
     "output_type": "execute_result"
    }
   ],
   "source": [
    "confusion_matrix(y_test4, pre_test1)"
   ]
  },
  {
   "cell_type": "code",
   "execution_count": 83,
   "metadata": {},
   "outputs": [
    {
     "data": {
      "image/png": "[encoded data removed]",
      "text/plain": [
       "<Figure size 432x288 with 1 Axes>"
      ]
     },
     "metadata": {},
     "output_type": "display_data"
    }
   ],
   "source": [
    "roc_auc = roc_auc_score(pre_test1,y_test4)\n",
    "fpr, tpr, thresholds = roc_curve(pre_test1,y_test4)\n",
    "plt.title('Receiver Operating Characteristic')\n",
    "plt.plot(fpr, tpr, 'b', label = 'AUC = %0.2f' % roc_auc)\n",
    "plt.legend(loc = 'lower right')\n",
    "plt.plot([0, 1], [0, 1],'r--')\n",
    "plt.xlim([0, 1])\n",
    "plt.ylim([0, 1])\n",
    "plt.ylabel('True Positive Rate')\n",
    "plt.xlabel('False Positive Rate')\n",
    "plt.show()"
   ]
  },
  {
   "cell_type": "code",
   "execution_count": 84,
   "metadata": {},
   "outputs": [],
   "source": [
    "train_acc=[]\n",
    "test_acc=[]\n",
    "train_precision=[]\n",
    "test_precision=[]\n",
    "train_recall=[]\n",
    "test_recall=[]\n",
    "train_fscore=[]\n",
    "test_fscore=[]\n",
    "train_auc=[]\n",
    "test_auc=[]\n",
    "\n",
    "for i in range(0,10):\n",
    "    X_train_M4, X_test_M4, y_train_M4, y_test_M4 = train_test_split(data_pos1.iloc[:,:-1],data_pos1.iloc[:,-1], test_size=0.2, random_state=i, shuffle=True)\n",
    "    X_train_B4, X_test_B4, y_train_B4, y_test_B4 = train_test_split(data_neg1.iloc[:,:-1],data_neg1.iloc[:,-1], test_size=0.2, random_state=i, shuffle=True)\n",
    "    X_train4 = pd.concat([X_train_M4,X_train_B4])\n",
    "    y_train4 = pd.concat([y_train_M4,y_train_B4])\n",
    "    X_test4 = pd.concat([X_test_M4,X_test_B4])\n",
    "    y_test4 = pd.concat([y_test_M4,y_test_B4])\n",
    "    \n",
    "    dis_train = manifold.SpectralEmbedding(n_components=2).fit_transform(X_train4)\n",
    "    dis_test = manifold.SpectralEmbedding(n_components=2).fit_transform(X_test4)\n",
    "    \n",
    "    \n",
    "    k_model = KMeans(n_clusters=2,init='random',random_state=i,n_init = 20).fit(dis_train)\n",
    "    d0 = k_model.transform(dis_train)[:, 1]\n",
    "    dis_30_1 = np.argsort(d0)[::][:30].tolist()\n",
    "    l0= y_train4.iloc[dis_30_1].tolist()\n",
    "    pol0_sc = max(set(l0), key = l0.count)\n",
    "    #find the 30 nearest distance to center1 in x_train_un\n",
    "    \n",
    "    d1 = k_model.transform(dis_train)[:, 0]\n",
    "    dis_30_2 = np.argsort(d1)[::][:30].tolist()\n",
    "    l1 = y_train4.iloc[dis_30_2].tolist()\n",
    "    pol1_sc = max(set(l1), key = l1.count)#find the 30 nearest distance to center2 \n",
    "    \n",
    "    pre_train4 = k_model.predict(dis_train)\n",
    "    for n in range(len(pre_train4)):\n",
    "        if(pre_train4[n] == 0):\n",
    "            pre_train4[n] = pol0_sc\n",
    "        elif(pre_train4[n] == 1):\n",
    "            pre_train4[n] = pol1_sc\n",
    "    pre_test4 = k_model.predict(dis_test)\n",
    "    for n in range(len(pre_test4)):\n",
    "        if(pre_test4[n] == 0):\n",
    "            pre_test4[n] = pol0_sc\n",
    "        elif(pre_test4[n] == 1):\n",
    "            pre_test4[n] = pol1_sc\n",
    "            \n",
    "    train_acc.append(accuracy_score(y_train4,pre_train4))\n",
    "    test_acc.append(accuracy_score(y_test4,pre_test4))\n",
    "    train_precision.append(precision_score(y_train4,pre_train4))\n",
    "    test_precision.append(precision_score(y_test4,pre_test4))\n",
    "    train_recall.append(recall_score(y_train4,pre_train4))\n",
    "    test_recall.append(recall_score(y_test4,pre_test4))\n",
    "    train_fscore.append(f1_score(y_train4,pre_train4))\n",
    "    test_fscore.append(f1_score(y_test4,pre_test4))\n",
    "    train_auc.append(roc_auc_score(y_train4,pre_train4))\n",
    "    test_auc.append(roc_auc_score(y_test4,pre_test4)) # be tought by my friend"
   ]
  },
  {
   "cell_type": "code",
   "execution_count": 85,
   "metadata": {},
   "outputs": [
    {
     "name": "stdout",
     "output_type": "stream",
     "text": [
      "for training data:\n",
      "Average Accuracy: 0.11872246696035242\n",
      "Average Precision: 0.15387495049860397\n",
      "Average Recall: 0.30414201183431955\n",
      "Average f1: 0.2043548862634934\n",
      "Average AUC: 0.1564569708294405\n"
     ]
    }
   ],
   "source": [
    "print(\"for training data:\")\n",
    "print(\"Average Accuracy:\",np.mean(train_acc))\n",
    "print(\"Average Precision:\",np.mean(train_precision))\n",
    "print(\"Average Recall:\",np.mean(train_recall))\n",
    "print(\"Average f1:\",np.mean(train_fscore))\n",
    "print(\"Average AUC:\",np.mean(train_auc))"
   ]
  },
  {
   "cell_type": "code",
   "execution_count": 86,
   "metadata": {},
   "outputs": [
    {
     "name": "stdout",
     "output_type": "stream",
     "text": [
      "for testing  data:\n",
      "Average Accuracy: 0.5365217391304348\n",
      "Average Precision: 0.4602679569699887\n",
      "Average Recall: 0.7209302325581395\n",
      "Average f1: 0.5527094388762712\n",
      "Average AUC: 0.5736595607235142\n"
     ]
    }
   ],
   "source": [
    "print(\"for testing  data:\")\n",
    "print(\"Average Accuracy:\",np.mean(test_acc))\n",
    "print(\"Average Precision:\",np.mean(test_precision))\n",
    "print(\"Average Recall:\",np.mean(test_recall))\n",
    "print(\"Average f1:\",np.mean(test_fscore))\n",
    "print(\"Average AUC:\",np.mean(test_auc))"
   ]
  },
  {
   "cell_type": "code",
   "execution_count": null,
   "metadata": {},
   "outputs": [],
   "source": []
  }
 ],
 "metadata": {
  "kernelspec": {
   "display_name": "Python 3",
   "language": "python",
   "name": "python3"
  },
  "language_info": {
   "codemirror_mode": {
    "name": "ipython",
    "version": 3
   },
   "file_extension": ".py",
   "mimetype": "text/x-python",
   "name": "python",
   "nbconvert_exporter": "python",
   "pygments_lexer": "ipython3",
   "version": "3.6.8"
  }
 },
 "nbformat": 4,
 "nbformat_minor": 2
}