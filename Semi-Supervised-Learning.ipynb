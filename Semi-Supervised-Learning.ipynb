{
 "cells": [
  {
   "cell_type": "markdown",
   "metadata": {},
   "source": [
    "# Semi Supervised Learning"
   ]
  },
  {
   "cell_type": "code",
   "execution_count": 54,
   "metadata": {},
   "outputs": [],
   "source": [
    "import pandas as pd\n",
    "from sklearn.svm import LinearSVC\n",
    "from sklearn.model_selection import cross_val_score\n",
    "from sklearn import preprocessing\n",
    "import numpy as np\n",
    "import random\n",
    "from sklearn.metrics import accuracy_score\n",
    "from sklearn.metrics import precision_score\n",
    "from sklearn.metrics import recall_score\n",
    "from sklearn.metrics import f1_score\n",
    "from sklearn.metrics import roc_auc_score\n",
    "from sklearn import metrics\n",
    "import matplotlib.pyplot as plt\n",
    "from sklearn.metrics import confusion_matrix\n",
    "from sklearn.model_selection import train_test_split"
   ]
  },
  {
   "cell_type": "markdown",
   "metadata": {},
   "source": [
    "## Active Learning Using Support Vector Machines"
   ]
  },
  {
   "cell_type": "code",
   "execution_count": 2,
   "metadata": {},
   "outputs": [],
   "source": [
    "data = pd.read_csv('data_banknote_authentication.csv', header = None, index_col = False)"
   ]
  },
  {
   "cell_type": "code",
   "execution_count": 3,
   "metadata": {},
   "outputs": [],
   "source": [
    "test = data.sample(n = 472)"
   ]
  },
  {
   "cell_type": "code",
   "execution_count": 4,
   "metadata": {},
   "outputs": [],
   "source": [
    "train = data.loc[~data.index.isin(test.index)].reset_index(drop=True)"
   ]
  },
  {
   "cell_type": "code",
   "execution_count": 5,
   "metadata": {},
   "outputs": [],
   "source": [
    "#train = train.reset_index(drop=True)"
   ]
  },
  {
   "cell_type": "code",
   "execution_count": 6,
   "metadata": {},
   "outputs": [],
   "source": [
    "#train_x = train[[0,1,2,3]]\n",
    "#train_x_normal = preprocessing.normalize(train_x)\n",
    "#train_x_normal = pd.DataFrame(train_x_normal)\n",
    "#train_y = train[[4]]"
   ]
  },
  {
   "cell_type": "code",
   "execution_count": 7,
   "metadata": {},
   "outputs": [],
   "source": [
    "test_x = test[[0,1,2,3]]\n",
    "test_x_normal = preprocessing.normalize(test_x)\n",
    "test_x_normal = pd.DataFrame(test_x_normal)\n",
    "test_y = test[[4]]"
   ]
  },
  {
   "cell_type": "code",
   "execution_count": 8,
   "metadata": {},
   "outputs": [],
   "source": [
    "def getweight(rang,train_x, train_y):\n",
    "    all_score=[]\n",
    "    for i in rang:\n",
    "        clf = LinearSVC(penalty='l1', dual=False, C=i,max_iter=1000000)\n",
    "        all_score.append(cross_val_score(estimator=clf, X=train_x, y=np.ravel(train_y), cv=5).mean())\n",
    "    #print('best_:weight',rang[all_score.index(max(all_score))])\n",
    "    #print('accuracy_score:',max(all_score)) \n",
    "    return rang[all_score.index(max(all_score))]"
   ]
  },
  {
   "cell_type": "code",
   "execution_count": 9,
   "metadata": {},
   "outputs": [],
   "source": [
    "rang = [0.1,0.3,0.5,0.7,0.9,1]"
   ]
  },
  {
   "cell_type": "code",
   "execution_count": 18,
   "metadata": {},
   "outputs": [],
   "source": [
    "test = data.sample(n = 472)\n",
    "train = data.loc[~data.index.isin(test.index)]"
   ]
  },
  {
   "cell_type": "code",
   "execution_count": 19,
   "metadata": {},
   "outputs": [],
   "source": [
    "train_x = preprocessing.normalize(train[[0,1,2,3]])\n",
    "train_y = train[[4]]"
   ]
  },
  {
   "cell_type": "code",
   "execution_count": 20,
   "metadata": {},
   "outputs": [],
   "source": [
    "weight = getweight(rang,train_x, np.ravel(train_y))"
   ]
  },
  {
   "cell_type": "code",
   "execution_count": 21,
   "metadata": {},
   "outputs": [],
   "source": [
    "clf = LinearSVC(penalty='l1', dual=False, C=weight,max_iter=1000000)\n",
    "clf.fit(train_x,np.ravel(train_y))\n",
    "error_last = clf.score(test_x,test_y)# firstly get the last error with all of the data\n"
   ]
  },
  {
   "cell_type": "code",
   "execution_count": 22,
   "metadata": {},
   "outputs": [],
   "source": [
    "pool = train.sample(n=10)\n",
    "train = train.loc[~train.index.isin(pool.index)]"
   ]
  },
  {
   "cell_type": "code",
   "execution_count": 23,
   "metadata": {},
   "outputs": [],
   "source": [
    "train_x = preprocessing.normalize(pool[[0,1,2,3]])\n",
    "train_y = pool[[4]]"
   ]
  },
  {
   "cell_type": "code",
   "execution_count": 24,
   "metadata": {},
   "outputs": [],
   "source": [
    "weight = getweight(rang,train_x, np.ravel(train_y))"
   ]
  },
  {
   "cell_type": "code",
   "execution_count": 25,
   "metadata": {},
   "outputs": [],
   "source": [
    "errors = list()"
   ]
  },
  {
   "cell_type": "code",
   "execution_count": 26,
   "metadata": {},
   "outputs": [],
   "source": [
    "clf = LinearSVC(penalty='l1', dual=False, C=weight,max_iter=1000000)\n",
    "clf.fit(train_x,np.ravel(train_y))\n",
    "error = clf.score(test_x,test_y)\n",
    "errors.append(error)"
   ]
  },
  {
   "cell_type": "code",
   "execution_count": 27,
   "metadata": {},
   "outputs": [],
   "source": [
    "i = 2\n",
    "pool = train.sample(n=10)\n",
    "train = train.loc[~train.index.isin(pool.index)]\n",
    "for i in range(2 , 90 ,1):\n",
    "    \n",
    "    pool_add = train.sample(n=10)\n",
    "    pool = pd.concat([pool,pool_add])\n",
    "    train = train.loc[~train.index.isin(pool_add.index)]\n",
    "    #print(len(train))\n",
    "    train_x = preprocessing.normalize(pool[[0,1,2,3]])\n",
    "    train_y = pool[[4]]\n",
    "    weight= getweight(rang,train_x, train_y)\n",
    "    clf = LinearSVC(penalty='l1', dual=False, C=weight,max_iter=1000000)\n",
    "    clf.fit(train_x,np.ravel(train_y))\n",
    "    error = 1- clf.score(test_x,test_y)\n",
    "    errors.append(error)\n",
    "    #pool = pd.concat([pool,pool_add])\n",
    "    i = i+1\n",
    "    "
   ]
  },
  {
   "cell_type": "code",
   "execution_count": 28,
   "metadata": {},
   "outputs": [],
   "source": [
    "errors.append(error_last)"
   ]
  },
  {
   "cell_type": "code",
   "execution_count": 29,
   "metadata": {},
   "outputs": [
    {
     "data": {
      "text/plain": [
       "[0.6694915254237288,\n",
       " 0.1610169491525424,\n",
       " 0.1673728813559322,\n",
       " 0.09745762711864403,\n",
       " 0.06144067796610164,\n",
       " 0.09533898305084743,\n",
       " 0.03177966101694918,\n",
       " 0.0423728813559322,\n",
       " 0.04661016949152541,\n",
       " 0.03813559322033899,\n",
       " 0.09533898305084743,\n",
       " 0.05932203389830504,\n",
       " 0.07415254237288138,\n",
       " 0.06144067796610164,\n",
       " 0.05932203389830504,\n",
       " 0.07203389830508478,\n",
       " 0.06567796610169496,\n",
       " 0.06567796610169496,\n",
       " 0.06779661016949157,\n",
       " 0.14406779661016944,\n",
       " 0.14194915254237284,\n",
       " 0.14194915254237284,\n",
       " 0.1292372881355932,\n",
       " 0.1313559322033898,\n",
       " 0.1292372881355932,\n",
       " 0.13771186440677963,\n",
       " 0.11016949152542377,\n",
       " 0.15042372881355937,\n",
       " 0.13983050847457623,\n",
       " 0.13983050847457623,\n",
       " 0.13771186440677963,\n",
       " 0.07203389830508478,\n",
       " 0.07627118644067798,\n",
       " 0.07627118644067798,\n",
       " 0.07415254237288138,\n",
       " 0.07203389830508478,\n",
       " 0.10381355932203384,\n",
       " 0.10381355932203384,\n",
       " 0.10169491525423724,\n",
       " 0.10805084745762716,\n",
       " 0.07838983050847459,\n",
       " 0.13559322033898302,\n",
       " 0.125,\n",
       " 0.125,\n",
       " 0.125,\n",
       " 0.1228813559322034,\n",
       " 0.11228813559322037,\n",
       " 0.1228813559322034,\n",
       " 0.13347457627118642,\n",
       " 0.12076271186440679,\n",
       " 0.1313559322033898,\n",
       " 0.13347457627118642,\n",
       " 0.1271186440677966,\n",
       " 0.13559322033898302,\n",
       " 0.13559322033898302,\n",
       " 0.15042372881355937,\n",
       " 0.15254237288135597,\n",
       " 0.15042372881355937,\n",
       " 0.15254237288135597,\n",
       " 0.14830508474576276,\n",
       " 0.15042372881355937,\n",
       " 0.15042372881355937,\n",
       " 0.15042372881355937,\n",
       " 0.15042372881355937,\n",
       " 0.15466101694915257,\n",
       " 0.15466101694915257,\n",
       " 0.15042372881355937,\n",
       " 0.15042372881355937,\n",
       " 0.15042372881355937,\n",
       " 0.15042372881355937,\n",
       " 0.15466101694915257,\n",
       " 0.15466101694915257,\n",
       " 0.15466101694915257,\n",
       " 0.15042372881355937,\n",
       " 0.15042372881355937,\n",
       " 0.15254237288135597,\n",
       " 0.14830508474576276,\n",
       " 0.14830508474576276,\n",
       " 0.14830508474576276,\n",
       " 0.15254237288135597,\n",
       " 0.15254237288135597,\n",
       " 0.15042372881355937,\n",
       " 0.15466101694915257,\n",
       " 0.15677966101694918,\n",
       " 0.15466101694915257,\n",
       " 0.15254237288135597,\n",
       " 0.15677966101694918,\n",
       " 0.15677966101694918,\n",
       " 0.15254237288135597,\n",
       " 0.8432203389830508]"
      ]
     },
     "execution_count": 29,
     "metadata": {},
     "output_type": "execute_result"
    }
   ],
   "source": [
    "errors"
   ]
  },
  {
   "cell_type": "code",
   "execution_count": 30,
   "metadata": {},
   "outputs": [
    {
     "data": {
      "text/plain": [
       "90"
      ]
     },
     "execution_count": 30,
     "metadata": {},
     "output_type": "execute_result"
    }
   ],
   "source": [
    "len(errors)"
   ]
  },
  {
   "cell_type": "code",
   "execution_count": 31,
   "metadata": {},
   "outputs": [],
   "source": [
    "train = data.loc[~data.index.isin(test.index)].reset_index(drop=True)"
   ]
  },
  {
   "cell_type": "code",
   "execution_count": 32,
   "metadata": {},
   "outputs": [],
   "source": [
    "train_x = preprocessing.normalize(train[[0,1,2,3]])\n",
    "train_y = train[[4]]"
   ]
  },
  {
   "cell_type": "code",
   "execution_count": 33,
   "metadata": {},
   "outputs": [],
   "source": [
    "weight = getweight(rang,train_x, np.ravel(train_y))"
   ]
  },
  {
   "cell_type": "code",
   "execution_count": 34,
   "metadata": {},
   "outputs": [],
   "source": [
    "clf = LinearSVC(penalty='l1', dual=False, C=weight,max_iter=1000000)\n",
    "clf.fit(train_x,np.ravel(train_y))\n",
    "error_last = clf.score(test_x,test_y)# firstly get the last error with all of the data\n",
    "\n"
   ]
  },
  {
   "cell_type": "code",
   "execution_count": 35,
   "metadata": {},
   "outputs": [],
   "source": [
    "errors = list()"
   ]
  },
  {
   "cell_type": "code",
   "execution_count": 36,
   "metadata": {},
   "outputs": [],
   "source": [
    "pool = train.sample(n=10)# 只有10个点的情况\n",
    "train = train.loc[~train.index.isin(pool.index)].reset_index(drop=True)"
   ]
  },
  {
   "cell_type": "code",
   "execution_count": 37,
   "metadata": {},
   "outputs": [],
   "source": [
    "train_x = preprocessing.normalize(pool[[0,1,2,3]])\n",
    "train_y = pool[[4]]"
   ]
  },
  {
   "cell_type": "code",
   "execution_count": 38,
   "metadata": {},
   "outputs": [],
   "source": [
    "def getweight(rang,train_x, train_y):\n",
    "    all_score=[]\n",
    "    for i in rang:\n",
    "        clf = LinearSVC(penalty='l1', dual=False, C=i,max_iter=1000000)\n",
    "        all_score.append(cross_val_score(estimator=clf, X=train_x, y=np.ravel(train_y), cv=3).mean())\n",
    "    #print('best_:weight',rang[all_score.index(max(all_score))])\n",
    "    #print('accuracy_score:',max(all_score)) \n",
    "    return rang[all_score.index(max(all_score))]"
   ]
  },
  {
   "cell_type": "code",
   "execution_count": 39,
   "metadata": {},
   "outputs": [],
   "source": [
    "weight = getweight(rang,train_x, np.ravel(train_y))"
   ]
  },
  {
   "cell_type": "code",
   "execution_count": 40,
   "metadata": {},
   "outputs": [
    {
     "data": {
      "text/plain": [
       "LinearSVC(C=0.5, class_weight=None, dual=False, fit_intercept=True,\n",
       "     intercept_scaling=1, loss='squared_hinge', max_iter=1000000,\n",
       "     multi_class='ovr', penalty='l1', random_state=None, tol=0.0001,\n",
       "     verbose=0)"
      ]
     },
     "execution_count": 40,
     "metadata": {},
     "output_type": "execute_result"
    }
   ],
   "source": [
    "clf = LinearSVC(penalty='l1', dual=False, C=weight,max_iter=1000000)\n",
    "clf.fit(train_x,np.ravel(train_y))"
   ]
  },
  {
   "cell_type": "code",
   "execution_count": 41,
   "metadata": {},
   "outputs": [],
   "source": [
    "error = 1-clf.score(test_x,test_y)"
   ]
  },
  {
   "cell_type": "code",
   "execution_count": 42,
   "metadata": {},
   "outputs": [],
   "source": [
    "errors.append(error)"
   ]
  },
  {
   "cell_type": "code",
   "execution_count": 43,
   "metadata": {},
   "outputs": [],
   "source": [
    "i = 2\n",
    "for i in range(2,90,1):\n",
    "    dis = clf.decision_function(train[[0,1,2,3]])# 选出要加入的点\n",
    "    #index = get_index(clf,dis)\n",
    "    dis = pd.DataFrame(abs(dis))\n",
    "    dis = pd.DataFrame(dis[0])\n",
    "    w_norm = np.linalg.norm(clf.coef_) # 分子\n",
    "    distance = pd.DataFrame(dis/w_norm)\n",
    "    index = list(distance.nlargest(10, 0).index)\n",
    "    \n",
    "    pool_add = train.loc[index]\n",
    "    #print(pool_add)\n",
    "    train = train.loc[~train.index.isin(pool_add.index)].reset_index(drop=True)\n",
    "    pool = pd.concat([pool,pool_add])# 把新的点加入pool\n",
    "    #print(pool)\n",
    "    \n",
    "    train_x = preprocessing.normalize(pool[[0,1,2,3]])\n",
    "    train_y = pool[[4]]\n",
    "    weight= getweight(rang,train_x, train_y)\n",
    "    clf = LinearSVC(penalty='l1', dual=False, C=weight,max_iter=1000000)\n",
    "    clf.fit(train_x,np.ravel(train_y))\n",
    "    error = 1- clf.score(test_x,test_y)\n",
    "    errors.append(error)# have a new model, and add the new error \n",
    "    \n",
    "    i = i+1\n",
    "    \n",
    "    \n",
    "    \n",
    "    \n",
    "    \n",
    "    "
   ]
  },
  {
   "cell_type": "code",
   "execution_count": 44,
   "metadata": {},
   "outputs": [],
   "source": [
    "errors.append(error_last)"
   ]
  },
  {
   "cell_type": "code",
   "execution_count": 45,
   "metadata": {},
   "outputs": [
    {
     "data": {
      "text/plain": [
       "[0.20127118644067798,\n",
       " 0.2457627118644068,\n",
       " 0.2542372881355932,\n",
       " 0.3813559322033898,\n",
       " 0.3813559322033898,\n",
       " 0.3813559322033898,\n",
       " 0.3813559322033898,\n",
       " 0.3813559322033898,\n",
       " 0.3813559322033898,\n",
       " 0.3813559322033898,\n",
       " 0.3813559322033898,\n",
       " 0.2860169491525424,\n",
       " 0.326271186440678,\n",
       " 0.31991525423728817,\n",
       " 0.31991525423728817,\n",
       " 0.31355932203389836,\n",
       " 0.31144067796610164,\n",
       " 0.31144067796610164,\n",
       " 0.31144067796610164,\n",
       " 0.30508474576271183,\n",
       " 0.3432203389830508,\n",
       " 0.3432203389830508,\n",
       " 0.2966101694915254,\n",
       " 0.3283898305084746,\n",
       " 0.3283898305084746,\n",
       " 0.3283898305084746,\n",
       " 0.326271186440678,\n",
       " 0.326271186440678,\n",
       " 0.3665254237288136,\n",
       " 0.14830508474576276,\n",
       " 0.2521186440677966,\n",
       " 0.2521186440677966,\n",
       " 0.2521186440677966,\n",
       " 0.2521186440677966,\n",
       " 0.2521186440677966,\n",
       " 0.2521186440677966,\n",
       " 0.2521186440677966,\n",
       " 0.2521186440677966,\n",
       " 0.2521186440677966,\n",
       " 0.10593220338983056,\n",
       " 0.10593220338983056,\n",
       " 0.10593220338983056,\n",
       " 0.10593220338983056,\n",
       " 0.1271186440677966,\n",
       " 0.1271186440677966,\n",
       " 0.1271186440677966,\n",
       " 0.1271186440677966,\n",
       " 0.1271186440677966,\n",
       " 0.125,\n",
       " 0.11016949152542377,\n",
       " 0.10593220338983056,\n",
       " 0.08898305084745761,\n",
       " 0.08686440677966101,\n",
       " 0.0826271186440678,\n",
       " 0.0826271186440678,\n",
       " 0.07415254237288138,\n",
       " 0.07415254237288138,\n",
       " 0.07203389830508478,\n",
       " 0.06567796610169496,\n",
       " 0.06779661016949157,\n",
       " 0.06991525423728817,\n",
       " 0.06355932203389836,\n",
       " 0.05932203389830504,\n",
       " 0.05932203389830504,\n",
       " 0.05932203389830504,\n",
       " 0.05932203389830504,\n",
       " 0.05932203389830504,\n",
       " 0.05932203389830504,\n",
       " 0.05932203389830504,\n",
       " 0.05932203389830504,\n",
       " 0.05932203389830504,\n",
       " 0.05932203389830504,\n",
       " 0.05932203389830504,\n",
       " 0.07627118644067798,\n",
       " 0.07627118644067798,\n",
       " 0.07627118644067798,\n",
       " 0.0826271186440678,\n",
       " 0.07627118644067798,\n",
       " 0.0826271186440678,\n",
       " 0.11228813559322037,\n",
       " 0.10381355932203384,\n",
       " 0.10169491525423724,\n",
       " 0.11864406779661019,\n",
       " 0.11652542372881358,\n",
       " 0.11864406779661019,\n",
       " 0.15254237288135597,\n",
       " 0.15254237288135597,\n",
       " 0.15254237288135597,\n",
       " 0.15677966101694918,\n",
       " 0.8432203389830508]"
      ]
     },
     "execution_count": 45,
     "metadata": {},
     "output_type": "execute_result"
    }
   ],
   "source": [
    "errors"
   ]
  },
  {
   "cell_type": "code",
   "execution_count": 46,
   "metadata": {},
   "outputs": [
    {
     "data": {
      "text/plain": [
       "90"
      ]
     },
     "execution_count": 46,
     "metadata": {},
     "output_type": "execute_result"
    }
   ],
   "source": [
    "len(errors)"
   ]
  },
  {
   "cell_type": "code",
   "execution_count": null,
   "metadata": {},
   "outputs": [],
   "source": []
  }
 ],
 "metadata": {
  "kernelspec": {
   "display_name": "Python 3",
   "language": "python",
   "name": "python3"
  },
  "language_info": {
   "codemirror_mode": {
    "name": "ipython",
    "version": 3
   },
   "file_extension": ".py",
   "mimetype": "text/x-python",
   "name": "python",
   "nbconvert_exporter": "python",
   "pygments_lexer": "ipython3",
   "version": "3.6.8"
  }
 },
 "nbformat": 4,
 "nbformat_minor": 2
}